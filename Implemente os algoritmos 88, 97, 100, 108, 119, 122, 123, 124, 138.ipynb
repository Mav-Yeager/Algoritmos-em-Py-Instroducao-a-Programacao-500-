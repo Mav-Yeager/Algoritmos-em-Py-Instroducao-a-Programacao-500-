{
 "cells": [
  {
   "cell_type": "code",
   "execution_count": 1,
   "id": "df5425ff",
   "metadata": {},
   "outputs": [
    {
     "name": "stdout",
     "output_type": "stream",
     "text": [
      "******************************************\n",
      "                CALCULADORA               \n",
      "******************************************\n",
      "\n",
      " + para somar \n",
      " - para subtrair \n",
      " * para multiplicar \n",
      " / para dividir\n",
      "\n",
      "Digite opção: -\n",
      "\n",
      "Digite numero: 7\n",
      "Digite numero: 7\n",
      "\n",
      "Subtração:  0\n"
     ]
    }
   ],
   "source": [
    "#-------------------------------------------------\n",
    "\n",
    "#--------------  Algoritmo 88 --------------------\n",
    "\n",
    "#-------------------------------------------------\n",
    "\n",
    "print (\"******************************************\")\n",
    "print (\"                CALCULADORA               \")\n",
    "print (\"******************************************\")\n",
    "print (\"\\n + para somar\", \"\\n - para subtrair\", \"\\n * para multiplicar\", \"\\n / para dividir\")\n",
    "print()\n",
    "resp = input(\"Digite opção: \")\n",
    "def calculadora():\n",
    "    if resp == \"+\":\n",
    "        a = int(input(\"Digite numero: \"))\n",
    "        b = int(input(\"Digite numero: \"))\n",
    "        print(\"\\nSOMA: \", a+b )\n",
    "    else:\n",
    "        if resp == \"-\":\n",
    "            a = int(input(\"Digite numero: \"))\n",
    "            b = int(input(\"Digite numero: \"))\n",
    "            print(\"\\nSubtração: \", a-b )\n",
    "        \n",
    "        else:\n",
    "            if resp == \"*\":\n",
    "                a = int(input(\"Digite numero: \"))\n",
    "                b = int(input(\"Digite numero: \"))\n",
    "                print(\"\\nMultiplicação: \", a*b )\n",
    "        \n",
    "            else:\n",
    "                if resp == \"/\":\n",
    "                    a = int(input(\"Digite numero: \"))\n",
    "                    b = int(input(\"Digite numero: \"))\n",
    "                    print(\"\\nDivisão: \", a/b )\n",
    "                else:\n",
    "                    print(\"Opção não disponivel!\")\n",
    "print()\n",
    "calculadora()\n",
    "    \n",
    "    "
   ]
  },
  {
   "cell_type": "code",
   "execution_count": 60,
   "id": "00e44890",
   "metadata": {},
   "outputs": [
    {
     "name": "stdout",
     "output_type": "stream",
     "text": [
      "\n",
      "digite numero: 19\n",
      "\n",
      "Não é multiplo de 2 e nem de 5\n"
     ]
    }
   ],
   "source": [
    "#-------------------------------------------------\n",
    "\n",
    "#--------------  Algoritmo 97 --------------------\n",
    "\n",
    "#-------------------------------------------------\n",
    "\n",
    "numero = int(input(\"\\nDigite numero: \"))\n",
    "\n",
    "def seDiv():\n",
    "    if (numero % 10 == 0):\n",
    "        print (\"multiplo de 10\")\n",
    "    else:\n",
    "        if (numero % 2 == 0):\n",
    "            print (\"multiplo de 2\")\n",
    "        \n",
    "        else:\n",
    "            if(numero % 5 == 0):\n",
    "                print (\"multiplo de 5\")\n",
    "            \n",
    "            else:\n",
    "                print (\"Não é multiplo de 2 e nem de 5\")\n",
    "print()\n",
    "seDiv()\n",
    "                \n",
    "                "
   ]
  },
  {
   "cell_type": "code",
   "execution_count": 2,
   "id": "35159e30",
   "metadata": {},
   "outputs": [
    {
     "name": "stdout",
     "output_type": "stream",
     "text": [
      "numero de 4 algarismo: 1286\n",
      "\n",
      " numero multiplo de 4: 12\n"
     ]
    }
   ],
   "source": [
    "#-------------------------------------------------\n",
    "\n",
    "#--------------  Algoritmo 100 -------------------\n",
    "\n",
    "#-------------------------------------------------\n",
    "\n",
    "num = int(input(\"numero de 4 algarismo: \"))\n",
    "c = num // 100\n",
    "if (c % 4 == 0):\n",
    "    print (\"\\n numero multiplo de 4:\", c)\n",
    "else:\n",
    "    print (\"\\n numero não é multiplo de 4:\", c)\n"
   ]
  },
  {
   "cell_type": "code",
   "execution_count": 22,
   "id": "cdf8c5ee",
   "metadata": {
    "scrolled": true
   },
   "outputs": [
    {
     "ename": "SyntaxError",
     "evalue": "invalid syntax (Temp/ipykernel_8264/698835675.py, line 9)",
     "output_type": "error",
     "traceback": [
      "\u001b[1;36m  File \u001b[1;32m\"C:\\Users\\Maver\\AppData\\Local\\Temp/ipykernel_8264/698835675.py\"\u001b[1;36m, line \u001b[1;32m9\u001b[0m\n\u001b[1;33m    prenome = strnprim(nome, 5):\u001b[0m\n\u001b[1;37m                               ^\u001b[0m\n\u001b[1;31mSyntaxError\u001b[0m\u001b[1;31m:\u001b[0m invalid syntax\n"
     ]
    }
   ],
   "source": [
    "#-------------------------------------------------\n",
    "\n",
    "#--------------  Algoritmo 108 -------------------\n",
    "\n",
    "#-------------------------------------------------\n",
    "\n",
    "nome = input(\"Digite nome: \")\n",
    "\n",
    "prenome = strnprim(nome, 5):\n",
    "if ( prenome = \"JOSÉ\" or prenome = \"José\" or prenome = \"josé\" or nome =\"josé\" or nome = \"José\" or nome =\"JOSÉ\"):\n",
    "    print (nome)\n"
   ]
  },
  {
   "cell_type": "code",
   "execution_count": 90,
   "id": "961d1bc6",
   "metadata": {},
   "outputs": [
    {
     "name": "stdout",
     "output_type": "stream",
     "text": [
      "Digite numero 1: 0\n",
      "Digite numero 2: 1\n",
      "Digite numero 3: 100\n",
      "\n",
      "Ordem Decresecente:  100   1    0\n"
     ]
    }
   ],
   "source": [
    "#-------------------------------------------------\n",
    "\n",
    "#--------------  Algoritmo 119 -------------------\n",
    "\n",
    "#-------------------------------------------------\n",
    "\n",
    "a = int(input(\"Digite numero 1: \"))\n",
    "b = int(input(\"Digite numero 2: \"))\n",
    "c = int(input(\"Digite numero 3: \"))\n",
    "\n",
    "if (a > b):\n",
    "    aux = a \n",
    "    a = b \n",
    "    b = aux\n",
    "if (a > c):\n",
    "    aux = a\n",
    "    a = c\n",
    "    c = aux\n",
    "if (b > c):\n",
    "    aux = b\n",
    "    b = c\n",
    "    c = aux  \n",
    "print()\n",
    "print(\"Ordem Decresecente: \", c, \" \",b,\"  \",a)\n",
    "\n",
    "        \n"
   ]
  },
  {
   "cell_type": "code",
   "execution_count": 94,
   "id": "edbb1f93",
   "metadata": {},
   "outputs": [
    {
     "name": "stdout",
     "output_type": "stream",
     "text": [
      "digite 1 lado: 3\n",
      "digite 2 lado: 3\n",
      "digite 3 lado: 3\n",
      "\n",
      "Podem ser lados de um triangulo\n"
     ]
    }
   ],
   "source": [
    "#-------------------------------------------------\n",
    "\n",
    "#--------------  Algoritmo 122 -------------------\n",
    "\n",
    "#-------------------------------------------------\n",
    "\n",
    "a = int(input(\"digite 1 lado: \"))\n",
    "b = int(input(\"digite 2 lado: \"))\n",
    "c = int(input(\"digite 3 lado: \"))\n",
    "\n",
    "if ( a < b + c and b < a + c and c < a + b ):\n",
    "    print (\"\\nPodem ser lados de um triangulo\")\n",
    "else:\n",
    "    print(\"\\nNão podem ser lados de um triangulo\")\n"
   ]
  },
  {
   "cell_type": "code",
   "execution_count": 122,
   "id": "3213f665",
   "metadata": {},
   "outputs": [
    {
     "name": "stdout",
     "output_type": "stream",
     "text": [
      "digite 1 lado: 5\n",
      "digite 2 lado: 6\n",
      "digite 3 lado: 3\n",
      "\n",
      "Tringulo escaleno\n"
     ]
    }
   ],
   "source": [
    "#-------------------------------------------------\n",
    "\n",
    "#--------------  Algoritmo 123 -------------------\n",
    "\n",
    "#-------------------------------------------------\n",
    "a = int(input(\"digite 1 lado: \"))\n",
    "b = int(input(\"digite 2 lado: \"))\n",
    "c = int(input(\"digite 3 lado: \"))\n",
    "\n",
    "if ( a < b + c and b < a + c and c < a + b ):\n",
    "    \n",
    "    if (a == b and a == c):\n",
    "        print( \"\\nTriangulo equilatero\")\n",
    "    else:\n",
    "        if ( a == b or a == c or b == c):\n",
    "            print(\"\\nTriangulo isosceles\")\n",
    "        else:\n",
    "            print(\"\\nTringulo escaleno\")\n",
    "else:\n",
    "    print (\"\\nAs medidas não formam um triangulo\")\n",
    "    \n"
   ]
  },
  {
   "cell_type": "code",
   "execution_count": 3,
   "id": "8883066e",
   "metadata": {},
   "outputs": [
    {
     "name": "stdout",
     "output_type": "stream",
     "text": [
      "digite 1 lado: 7\n",
      "digite 2 lado: 5\n",
      "digite 3 lado: 7\n",
      "\n",
      "Triangulo Acutangulo\n"
     ]
    }
   ],
   "source": [
    "#-------------------------------------------------\n",
    "\n",
    "#--------------  Algoritmo 124 -------------------\n",
    "\n",
    "#-------------------------------------------------\n",
    "\n",
    "a = int(input(\"digite 1 lado: \"))\n",
    "b = int(input(\"digite 2 lado: \"))\n",
    "c = int(input(\"digite 3 lado: \"))\n",
    "\n",
    "if  a < b + c and b < a + c and c < a + b :\n",
    "    if a > b and a > c:\n",
    "        maior = (a ** (1/2))\n",
    "        lados = (b ** (1/2)) + (c ** (1/2))\n",
    "    else:\n",
    "        if b > c:\n",
    "            maior = (b ** (1/2))\n",
    "            lados = (a ** (1/2)) + (c ** (1/2))\n",
    "        else:\n",
    "            maior = (c ** (1/2))\n",
    "            lados = (a ** (1/2)) + (b ** (1/2))     \n",
    "    if maior == lados:\n",
    "        print(\"\\nTriangulo Retangulo\")\n",
    "    else:\n",
    "        if maior > lados:\n",
    "            print(\"\\nTriangulo Obtusangulo\")\n",
    "        else:\n",
    "            print(\"\\nTriangulo Acutangulo\")\n",
    "\n",
    "else:\n",
    "    print(\"\\nas medidas não formam um triangulo\")\n",
    "                \n",
    "    \n",
    "        "
   ]
  },
  {
   "cell_type": "code",
   "execution_count": 15,
   "id": "d994b234",
   "metadata": {},
   "outputs": [
    {
     "name": "stdout",
     "output_type": "stream",
     "text": [
      "digite um numero de 1 - 12: 3\n",
      "\n",
      "Março\n"
     ]
    }
   ],
   "source": [
    "#-------------------------------------------------\n",
    "\n",
    "#--------------  Algoritmo 138 -------------------\n",
    "\n",
    "#-------------------------------------------------\n",
    "\n",
    "num = int(input(\"digite um numero de 1 - 12: \"))\n",
    "\n",
    "if num == 1:\n",
    "    print (\"\\nJaneiro\")\n",
    "elif num == 2:\n",
    "    print (\"\\nFevereiro\")\n",
    "elif num == 3:\n",
    "    print(\"\\nMarço\")\n",
    "elif num == 4:\n",
    "    print (\"\\Abril\")\n",
    "elif num == 5:\n",
    "    print(\"\\nMaio\")\n",
    "elif num == 6:\n",
    "    print(\"\\nJunho\")\n",
    "elif num == 7:\n",
    "    print(\"\\nJulho\")\n",
    "elif num == 8:\n",
    "    print(\"\\nAgosto\")\n",
    "elif num == 9:\n",
    "    print (\"\\nSetembro\")\n",
    "elif num == 10:\n",
    "    print(\"\\nOutubro\")\n",
    "elif num == 11:\n",
    "    print (\"\\nNovembro\")\n",
    "elif num == 12:\n",
    "    print(\"\\nDezembro\")\n",
    "else:\n",
    "    print (\"\\nNão existe mes correspondente\")\n",
    "    \n",
    "\n"
   ]
  }
 ],
 "metadata": {
  "kernelspec": {
   "display_name": "Python 3 (ipykernel)",
   "language": "python",
   "name": "python3"
  },
  "language_info": {
   "codemirror_mode": {
    "name": "ipython",
    "version": 3
   },
   "file_extension": ".py",
   "mimetype": "text/x-python",
   "name": "python",
   "nbconvert_exporter": "python",
   "pygments_lexer": "ipython3",
   "version": "3.9.7"
  }
 },
 "nbformat": 4,
 "nbformat_minor": 5
}
